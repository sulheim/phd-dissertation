{
 "cells": [
  {
   "cell_type": "code",
   "execution_count": 2,
   "metadata": {
    "ExecuteTime": {
     "end_time": "2020-11-18T13:25:17.436969Z",
     "start_time": "2020-11-18T13:25:10.494290Z"
    }
   },
   "outputs": [],
   "source": [
    "# Import required packages\n",
    "# We use cobrapy to create the minimal cell\n",
    "import cobra\n"
   ]
  },
  {
   "cell_type": "code",
   "execution_count": 88,
   "metadata": {
    "ExecuteTime": {
     "end_time": "2020-11-18T13:51:07.390240Z",
     "start_time": "2020-11-18T13:51:07.377204Z"
    }
   },
   "outputs": [],
   "source": [
    "model = cobra.Model(\"minimal_cell\")\n",
    "mets = {}\n",
    "for m_id in [\"a_e\", \"a_c\", \"c_e\", \"c_c\", \"b_c\", \"d_c\"]:\n",
    "    mets[m_id] = cobra.Metabolite(m_id, compartment = m_id.split(\"_\")[1])\n",
    "model.add_metabolites(mets.values())"
   ]
  },
  {
   "cell_type": "code",
   "execution_count": 89,
   "metadata": {
    "ExecuteTime": {
     "end_time": "2020-11-18T13:51:07.753201Z",
     "start_time": "2020-11-18T13:51:07.730200Z"
    }
   },
   "outputs": [],
   "source": [
    "Ea = cobra.Reaction(\"Ea\")\n",
    "Ea.add_metabolites({mets[\"a_e\"]:-1})\n",
    "\n",
    "Ec = cobra.Reaction(\"Ec\")\n",
    "Ec.add_metabolites({mets[\"c_e\"]:-1})\n",
    "\n",
    "Ta = cobra.Reaction(\"Ta\")\n",
    "Ta.add_metabolites({mets[\"a_e\"]:-1, mets[\"a_c\"]:1})\n",
    "Ta.bounds = (0,1000)\n",
    "\n",
    "Tc = cobra.Reaction(\"Tc\")\n",
    "Tc.add_metabolites({mets[\"c_e\"]:-1, mets[\"c_c\"]:1})\n",
    "Tc.bounds = (0,1000)\n",
    "\n",
    "R1 = cobra.Reaction(\"R1\")\n",
    "R1.add_metabolites({mets[\"a_c\"]:-1, mets[\"b_c\"]:1})\n",
    "R1.bounds = (0,1000)\n",
    "\n",
    "R2 = cobra.Reaction(\"R2\")\n",
    "R2.add_metabolites({mets[\"b_c\"]:-1, mets[\"c_c\"]:2})\n",
    "R2.bounds = (-1000,1000)\n",
    "\n",
    "R3 = cobra.Reaction(\"R3\")\n",
    "R3.add_metabolites({mets[\"b_c\"]:-1, mets[\"c_c\"]:-2, mets[\"d_c\"]:1})\n",
    "R3.bounds = (0,1000)\n",
    "\n",
    "Growth = cobra.Reaction(\"Growth\")\n",
    "Growth.add_metabolites({mets[\"d_c\"]:-1})\n",
    "Growth.bounds = (0,1000)\n",
    "\n",
    "model.add_reactions([Ea, Ec, Ta, Tc, R1, R2, R3, Growth])\n"
   ]
  },
  {
   "cell_type": "code",
   "execution_count": 90,
   "metadata": {
    "ExecuteTime": {
     "end_time": "2020-11-18T13:51:08.307201Z",
     "start_time": "2020-11-18T13:51:08.294200Z"
    }
   },
   "outputs": [
    {
     "data": {
      "text/plain": [
       "array([[-1.,  0., -1.,  0.,  0.,  0.,  0.,  0.],\n",
       "       [ 0.,  0.,  1.,  0., -1.,  0.,  0.,  0.],\n",
       "       [ 0., -1.,  0., -1.,  0.,  0.,  0.,  0.],\n",
       "       [ 0.,  0.,  0.,  1.,  0.,  2., -2.,  0.],\n",
       "       [ 0.,  0.,  0.,  0.,  1., -1., -1.,  0.],\n",
       "       [ 0.,  0.,  0.,  0.,  0.,  0.,  1., -1.]])"
      ]
     },
     "execution_count": 90,
     "metadata": {},
     "output_type": "execute_result"
    }
   ],
   "source": [
    "cobra.util.array.create_stoichiometric_matrix(model)"
   ]
  },
  {
   "cell_type": "code",
   "execution_count": 99,
   "metadata": {
    "ExecuteTime": {
     "end_time": "2020-11-18T13:51:38.782306Z",
     "start_time": "2020-11-18T13:51:38.760306Z"
    }
   },
   "outputs": [
    {
     "data": {
      "text/plain": [
       "(-1000, 1000)"
      ]
     },
     "execution_count": 99,
     "metadata": {},
     "output_type": "execute_result"
    }
   ],
   "source": [
    "# Set the bound of the exchange reaction to define growth environment\n",
    "model.reactions.Ea.bounds = (-1, 0)\n",
    "model.reactions.Ec.bounds = (-3, 0)\n",
    "model.reactions.R2.bounds"
   ]
  },
  {
   "cell_type": "code",
   "execution_count": 100,
   "metadata": {
    "ExecuteTime": {
     "end_time": "2020-11-18T13:51:39.143303Z",
     "start_time": "2020-11-18T13:51:39.125304Z"
    }
   },
   "outputs": [],
   "source": [
    "# Set objctive\n",
    "model.objective = model.reactions.Growth\n"
   ]
  },
  {
   "cell_type": "code",
   "execution_count": 101,
   "metadata": {
    "ExecuteTime": {
     "end_time": "2020-11-18T13:51:39.583161Z",
     "start_time": "2020-11-18T13:51:39.531159Z"
    }
   },
   "outputs": [
    {
     "name": "stdout",
     "output_type": "stream",
     "text": [
      "IN_FLUXES IN_FLUXES OUT_FLUXES OUT_FLUXES OBJECTIVES OBJECTIVES\n",
      "    ID       FLUX       ID        FLUX        ID        FLUX   \n",
      "    c_e       3.0                           Growth      1.25   \n",
      "    a_e       1.0                                              \n"
     ]
    }
   ],
   "source": [
    "# Optimize\n",
    "model.optimize()\n",
    "print(model.summary(float_format = None))"
   ]
  },
  {
   "cell_type": "code",
   "execution_count": 102,
   "metadata": {
    "ExecuteTime": {
     "end_time": "2020-11-18T13:51:40.042515Z",
     "start_time": "2020-11-18T13:51:40.030512Z"
    }
   },
   "outputs": [
    {
     "name": "stdout",
     "output_type": "stream",
     "text": [
      "Ea -1.0\n",
      "Ec -3.0\n",
      "Ta 1.0\n",
      "Tc 3.0\n",
      "R1 1.0\n",
      "R2 -0.25\n",
      "R3 1.25\n",
      "Growth 1.25\n"
     ]
    }
   ],
   "source": [
    "for r in model.reactions:\n",
    "    print(r.id, r.flux)"
   ]
  },
  {
   "cell_type": "code",
   "execution_count": 104,
   "metadata": {
    "ExecuteTime": {
     "end_time": "2020-11-18T13:53:57.563064Z",
     "start_time": "2020-11-18T13:53:57.557064Z"
    }
   },
   "outputs": [],
   "source": [
    "cobra.io.save_json_model(model, \"../minimal_cell.json\")"
   ]
  }
 ],
 "metadata": {
  "kernelspec": {
   "display_name": "Python 3",
   "language": "python",
   "name": "python3"
  },
  "language_info": {
   "codemirror_mode": {
    "name": "ipython",
    "version": 3
   },
   "file_extension": ".py",
   "mimetype": "text/x-python",
   "name": "python",
   "nbconvert_exporter": "python",
   "pygments_lexer": "ipython3",
   "version": "3.7.3"
  }
 },
 "nbformat": 4,
 "nbformat_minor": 2
}
